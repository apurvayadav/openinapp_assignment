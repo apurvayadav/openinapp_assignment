{
  "cells": [
    {
      "cell_type": "markdown",
      "source": [
        "#Introduction\n",
        "\n",
        "I started researching for this task. And got a amazing implementation online, from which i have adaopted this notebook.\n",
        "\n",
        "Notebook Link: [https://colab.research.google.com/github/justinjohn0306/Wav2Lip/blob/master/Wav2Lip_simplified_v5.ipynb](https://colab.research.google.com/github/justinjohn0306/Wav2Lip/blob/master/Wav2Lip_simplified_v5.ipynb)"
      ],
      "metadata": {
        "id": "UBOBC1T4FHPo"
      }
    },
    {
      "cell_type": "markdown",
      "source": [
        "## Setting Up Environment"
      ],
      "metadata": {
        "id": "sAAmMjI-FDZD"
      }
    },
    {
      "cell_type": "code",
      "source": [
        "from IPython.display import HTML, clear_output\n",
        "import os\n",
        "!rm -rf /content/sample_data\n",
        "!mkdir /content/sample_data\n",
        "\n",
        "!git clone https://github.com/justinjohn0306/Wav2Lip\n",
        "\n",
        "%cd /content/Wav2Lip\n",
        "\n",
        "#download the pretrained model\n",
        "!wget 'https://github.com/justinjohn0306/Wav2Lip/releases/download/models/wav2lip.pth' -O 'checkpoints/wav2lip.pth'\n",
        "!wget 'https://github.com/justinjohn0306/Wav2Lip/releases/download/models/wav2lip_gan.pth' -O 'checkpoints/wav2lip_gan.pth'\n",
        "!wget 'https://github.com/justinjohn0306/Wav2Lip/releases/download/models/resnet50.pth' -O 'checkpoints/resnet50.pth'\n",
        "!wget 'https://github.com/justinjohn0306/Wav2Lip/releases/download/models/mobilenet.pth' -O 'checkpoints/mobilenet.pth'\n",
        "a = !pip install https://raw.githubusercontent.com/AwaleSajil/ghc/master/ghc-1.0-py3-none-any.whl\n",
        "!pip install git+https://github.com/elliottzheng/batch-face.git@master\n",
        "\n",
        "!pip install ffmpeg-python mediapipe==0.8.11\n",
        "\n",
        "clear_output()\n",
        "print(\"All set and ready!\")"
      ],
      "metadata": {
        "id": "QdmVdTdHC6Jx"
      },
      "execution_count": null,
      "outputs": []
    },
    {
      "cell_type": "code",
      "source": [
        "from IPython.display import HTML\n",
        "from base64 import b64encode\n",
        "def showVideo(path):\n",
        "  mp4 = open(str(path),'rb').read()\n",
        "  data_url = \"data:video/mp4;base64,\" + b64encode(mp4).decode()\n",
        "  return HTML(\"\"\"\n",
        "  <video width=700 controls>\n",
        "        <source src=\"%s\" type=\"video/mp4\">\n",
        "  </video>\n",
        "  \"\"\" % data_url)"
      ],
      "metadata": {
        "id": "pbNsPlgPDN5o"
      },
      "execution_count": 2,
      "outputs": []
    },
    {
      "cell_type": "markdown",
      "source": [
        "Below are some utility functions which split video and audio. This is to overcome the issue of the moving lips even when no face is present."
      ],
      "metadata": {
        "id": "WzWFra8LUQhe"
      }
    },
    {
      "cell_type": "code",
      "source": [
        "import ffmpeg\n",
        "import soundfile\n",
        "\n",
        "import moviepy.editor as mpe\n",
        "\n",
        "def trim_video_and_save(input_file, output_file, start_time, end_time):\n",
        "  video = mpe.VideoFileClip(input_file)\n",
        "  split_video = video.subclip(start_time, end_time)\n",
        "  split_video.write_videofile(output_file)\n",
        "\n",
        "def trim_wav_audio_file(input_file, output_file, start_time, end_time):\n",
        "  data, fs = soundfile.read(input_file)\n",
        "  trimmed_data = data[int(start_time * fs):int(end_time * fs)]\n",
        "  soundfile.write(output_file, trimmed_data, fs)"
      ],
      "metadata": {
        "id": "GT9-P4BaG-A1"
      },
      "execution_count": 172,
      "outputs": []
    },
    {
      "cell_type": "markdown",
      "source": [
        "By maually watching the video, I have noted the time stamps for video with face and no face.   \n",
        "For example,\n",
        ">  0s to 8s - face is visible,  \n",
        ">  8s to 22s - face is not visible  \n",
        "\n",
        "so on.  \n",
        "The below function splits the video and audio files"
      ],
      "metadata": {
        "id": "em6ledMbXXRw"
      }
    },
    {
      "cell_type": "code",
      "source": [
        "def split_video_and_audio(time_stamps):\n",
        "\n",
        "  if not os.path.exists(\"/content/brokenfiles\"):\n",
        "    os.mkdir(\"/content/brokenfiles\")\n",
        "\n",
        "  face = True\n",
        "  for time_stamp in range(len(time_stamps)-1):\n",
        "    if face:\n",
        "      trim_video_and_save(\"/content/youtube_video.mp4\", f\"/content/brokenfiles/video_face_{time_stamp}.mp4\", time_stamps[time_stamp], time_stamps[time_stamp+1])\n",
        "      trim_wav_audio_file(\"/content/output10.wav\", f\"/content/brokenfiles/audio_face_{time_stamp}.wav\", time_stamps[time_stamp], time_stamps[time_stamp+1])\n",
        "      face = False\n",
        "    else:\n",
        "      trim_video_and_save(\"/content/youtube_video.mp4\", f\"/content/brokenfiles/video_{time_stamp}.mp4\", time_stamps[time_stamp], time_stamps[time_stamp+1])\n",
        "      trim_wav_audio_file(\"/content/output10.wav\", f\"/content/brokenfiles/audio_{time_stamp}.wav\", time_stamps[time_stamp], time_stamps[time_stamp+1])\n",
        "      face = True\n",
        "  return \"success\""
      ],
      "metadata": {
        "id": "_fP9ZsUXYTFY"
      },
      "execution_count": 188,
      "outputs": []
    },
    {
      "cell_type": "code",
      "source": [
        "time_stamps = [0,9,23,26,33,59]\n",
        "split_video_and_audio(time_stamps)"
      ],
      "metadata": {
        "id": "4TfiYY-0aS4r"
      },
      "execution_count": null,
      "outputs": []
    },
    {
      "cell_type": "code",
      "source": [
        "%cd /content/Wav2Lip"
      ],
      "metadata": {
        "colab": {
          "base_uri": "https://localhost:8080/"
        },
        "id": "xsKPNHvarUGS",
        "outputId": "44fef454-91a4-4acf-c794-e62696c4b051"
      },
      "execution_count": 190,
      "outputs": [
        {
          "output_type": "stream",
          "name": "stdout",
          "text": [
            "/content/Wav2Lip\n"
          ]
        }
      ]
    },
    {
      "cell_type": "markdown",
      "source": [
        "# Main Function  \n",
        "below is the main function which syncs audio and video. we can any video or audio, we just have to upload it on google colab."
      ],
      "metadata": {
        "id": "WFm3Lt-X5QmZ"
      }
    },
    {
      "cell_type": "code",
      "source": [
        "def lip_sync_audio_and_video(video_path, audio_path, output_file_path):\n",
        "\n",
        "  if not os.path.exists(\"/content/results_1\"):\n",
        "      os.mkdir(\"/content/results_1\")\n",
        "\n",
        "  checkpoint_path = 'checkpoints/wav2lip.pth'\n",
        "\n",
        "  pad_top =  0\n",
        "  pad_bottom =  0\n",
        "  pad_left =  0\n",
        "  pad_right =  0\n",
        "  rescaleFactor =  1\n",
        "  nosmooth = False\n",
        "\n",
        "  !python inference.py --checkpoint_path $checkpoint_path --face \"$video_path\" --audio \"$audio_path\" --outfile \"$output_file_path\" --pads $pad_top $pad_bottom $pad_left $pad_right --resize_factor $rescaleFactor\n",
        "\n",
        "  # clear_output()\n",
        "  print(\"audio and video synced!\")"
      ],
      "metadata": {
        "id": "scvd51Shq75n"
      },
      "execution_count": 191,
      "outputs": []
    },
    {
      "cell_type": "code",
      "source": [
        "video_files_with_face = [\"/content/brokenfiles/video_face_0.mp4\", \"/content/brokenfiles/video_face_2.mp4\",\n",
        "                         \"/content/brokenfiles/video_face_4.mp4\"]\n",
        "audio_files_with_face = [\"/content/brokenfiles/audio_face_0.wav\", \"/content/brokenfiles/audio_face_2.wav\",\n",
        "                         \"/content/brokenfiles/audio_face_4.wav\"]\n",
        "video_files = [\"/content/brokenfiles/video_1.mp4\", \"/content/brokenfiles/video_3.mp4\"]\n",
        "audio_files = [\"/content/brokenfiles/audio_1.wav\", \"/content/brokenfiles/audio_3.wav\"]"
      ],
      "metadata": {
        "id": "UBkHrVcnr5Mg"
      },
      "execution_count": 202,
      "outputs": []
    },
    {
      "cell_type": "code",
      "source": [
        "for ind, fil in enumerate(video_files_with_face):\n",
        "  lip_sync_audio_and_video(fil,audio_files_with_face[ind], f\"/content/results_1/video_{ind}.mp4\")"
      ],
      "metadata": {
        "id": "q4zfnjGwtZkT"
      },
      "execution_count": null,
      "outputs": []
    },
    {
      "cell_type": "markdown",
      "source": [
        "Now syncing the video with no face with audio"
      ],
      "metadata": {
        "id": "zOniLLMp7ZYQ"
      }
    },
    {
      "cell_type": "code",
      "source": [
        "def attach_video_and_audio(video_file, audio_file, output_file):\n",
        "  if not os.path.exists(\"/content/results_2\"):\n",
        "    os.mkdir(\"/content/results_2\")\n",
        "\n",
        "  video = mpe.VideoFileClip(video_file)\n",
        "  audio = mpe.AudioFileClip(audio_file)\n",
        "  joined_video = video.set_audio(audio)\n",
        "  joined_video.write_videofile(output_file)"
      ],
      "metadata": {
        "id": "sytBDz2k6gM7"
      },
      "execution_count": 204,
      "outputs": []
    },
    {
      "cell_type": "code",
      "source": [
        "for ind, fil in enumerate(video_files):\n",
        "  attach_video_and_audio(fil,audio_files[ind], f\"/content/results_2/video_{ind}.mp4\")"
      ],
      "metadata": {
        "id": "qp8Csm5W7EAc"
      },
      "execution_count": null,
      "outputs": []
    },
    {
      "cell_type": "markdown",
      "source": [
        "Combining the videos"
      ],
      "metadata": {
        "id": "ASPXdOaW9G8F"
      }
    },
    {
      "cell_type": "code",
      "source": [
        "def attach_videos(video_files, output_file):\n",
        "\n",
        "  video_clips = []\n",
        "  for video_file in video_files:\n",
        "    video_clips.append(mpe.VideoFileClip(video_file))\n",
        "\n",
        "  concatenated_video = mpe.concatenate_videoclips(video_clips)\n",
        "  concatenated_video.write_videofile(output_file)"
      ],
      "metadata": {
        "id": "PoyGYD6E8RBW"
      },
      "execution_count": 208,
      "outputs": []
    },
    {
      "cell_type": "code",
      "source": [
        "video_files = [\"/content/results_1/video_0.mp4\", \"/content/results_2/video_0.mp4\",\n",
        "               \"/content/results_1/video_1.mp4\", \"/content/results_2/video_1.mp4\",\n",
        "               \"/content/results_1/video_2.mp4\"]\n",
        "output_file = \"/content/final_video.mp4\"\n",
        "\n",
        "attach_videos(video_files, output_file)"
      ],
      "metadata": {
        "id": "ZbkKtjMq83oW"
      },
      "execution_count": null,
      "outputs": []
    },
    {
      "cell_type": "code",
      "source": [
        "showVideo(\"/content/final_video.mp4\")"
      ],
      "metadata": {
        "id": "qvXpwjFd9rO6"
      },
      "execution_count": 210,
      "outputs": []
    },
    {
      "cell_type": "code",
      "source": [],
      "metadata": {
        "id": "aDzGD93R-Sed"
      },
      "execution_count": null,
      "outputs": []
    }
  ],
  "metadata": {
    "colab": {
      "provenance": [],
      "gpuType": "T4"
    },
    "kernelspec": {
      "display_name": "Python 3",
      "name": "python3"
    },
    "language_info": {
      "name": "python"
    },
    "accelerator": "GPU"
  },
  "nbformat": 4,
  "nbformat_minor": 0
}